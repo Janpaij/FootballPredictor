{
 "cells": [
  {
   "cell_type": "code",
   "execution_count": 1,
   "metadata": {
    "collapsed": false
   },
   "outputs": [
    {
     "name": "stderr",
     "output_type": "stream",
     "text": [
      "C:\\Users\\Randhawa\\Anaconda3\\lib\\site-packages\\sklearn\\cross_validation.py:44: DeprecationWarning: This module was deprecated in version 0.18 in favor of the model_selection module into which all the refactored classes and functions are moved. Also note that the interface of the new CV iterators are different from that of this module. This module will be removed in 0.20.\n",
      "  \"This module will be removed in 0.20.\", DeprecationWarning)\n"
     ]
    }
   ],
   "source": [
    "# Load libraries\n",
    "import pandas\n",
    "import numpy as np\n",
    "import statsmodels.api as sm\n",
    "from patsy import dmatrices\n",
    "from pandas.tools.plotting import scatter_matrix\n",
    "import matplotlib.pyplot as plt\n",
    "from sklearn.cross_validation import train_test_split\n",
    "from sklearn import metrics\n",
    "from sklearn.cross_validation import cross_val_score\n",
    "from sklearn import model_selection\n",
    "from sklearn.metrics import classification_report\n",
    "from sklearn.metrics import confusion_matrix\n",
    "from sklearn.metrics import accuracy_score\n",
    "from sklearn.linear_model import LogisticRegression\n",
    "from sklearn.tree import DecisionTreeClassifier\n",
    "from sklearn.neighbors import KNeighborsClassifier\n",
    "from sklearn.discriminant_analysis import LinearDiscriminantAnalysis\n",
    "from sklearn.naive_bayes import GaussianNB\n",
    "from sklearn.svm import SVC"
   ]
  },
  {
   "cell_type": "code",
   "execution_count": 2,
   "metadata": {
    "collapsed": true
   },
   "outputs": [],
   "source": [
    "# Load dataset\n",
    "dataset = pandas.read_csv('FinalData.csv')"
   ]
  },
  {
   "cell_type": "markdown",
   "metadata": {},
   "source": [
    "Data Transformations"
   ]
  },
  {
   "cell_type": "code",
   "execution_count": 5,
   "metadata": {
    "collapsed": false
   },
   "outputs": [],
   "source": [
    "#These values do not affect what we are predicting (not even referee in my opinion) so we will delete them\n",
    "del dataset['ID']\n",
    "del dataset['Date']\n",
    "del dataset['Referee']"
   ]
  },
  {
   "cell_type": "code",
   "execution_count": 6,
   "metadata": {
    "collapsed": true
   },
   "outputs": [],
   "source": [
    "#These are neither getting predicted or providing prior knowledge\n",
    "del dataset['HTHG']\n",
    "del dataset['HTAG']\n",
    "del dataset['HTR-A']\n",
    "del dataset['HTR-D']\n",
    "del dataset['HTR-H']"
   ]
  },
  {
   "cell_type": "code",
   "execution_count": 7,
   "metadata": {
    "collapsed": true
   },
   "outputs": [],
   "source": [
    "#normalisation. Dividing wins by number of games played to make it even for all teams. Can't do 0 divided by 0 so keep the same if less than 1\n",
    "dataset['HHWins'] = np.where(dataset['HHGames'] < 1, dataset['HHWins'], dataset['HHWins']/dataset['HHGames'])\n",
    "dataset['AHWins'] = np.where(dataset['AHGames'] < 1, dataset['AHWins'], dataset['AHWins']/dataset['AHGames'])\n",
    "dataset['HAWins'] = np.where(dataset['HAGames'] < 1, dataset['HAWins'], dataset['HAWins']/dataset['HAGames'])\n",
    "dataset['AAWins'] = np.where(dataset['AAGames'] < 1, dataset['AAWins'], dataset['AAWins']/dataset['AAGames'])"
   ]
  },
  {
   "cell_type": "code",
   "execution_count": 8,
   "metadata": {
    "collapsed": true
   },
   "outputs": [],
   "source": [
    "#Encode the strings as numericals in order for the algorithms to be able to take them\n",
    "#0-Away win, 1- Draw, 2- Home Win\n",
    "from sklearn.preprocessing import LabelEncoder\n",
    "lbl_enc = LabelEncoder()\n",
    "lbl_enc.fit(dataset.FTR)\n",
    "dataset.FTR = lbl_enc.transform(dataset.FTR)\n",
    "lbl_enc.fit(dataset.HomeTeam)\n",
    "dataset.HomeTeam = lbl_enc.transform(dataset.HomeTeam)\n",
    "lbl_enc.fit(dataset.AwayTeam)\n",
    "dataset.AwayTeam = lbl_enc.transform(dataset.AwayTeam)"
   ]
  },
  {
   "cell_type": "markdown",
   "metadata": {},
   "source": [
    "Data Exploration"
   ]
  },
  {
   "cell_type": "code",
   "execution_count": 9,
   "metadata": {
    "collapsed": false
   },
   "outputs": [
    {
     "data": {
      "text/html": [
       "<div>\n",
       "<table border=\"1\" class=\"dataframe\">\n",
       "  <thead>\n",
       "    <tr style=\"text-align: right;\">\n",
       "      <th></th>\n",
       "      <th>HomeTeam</th>\n",
       "      <th>AwayTeam</th>\n",
       "      <th>FTHG</th>\n",
       "      <th>FTAG</th>\n",
       "      <th>HS</th>\n",
       "      <th>AS</th>\n",
       "      <th>HST</th>\n",
       "      <th>AST</th>\n",
       "      <th>HF</th>\n",
       "      <th>AF</th>\n",
       "      <th>...</th>\n",
       "      <th>HHCorners</th>\n",
       "      <th>HAShots</th>\n",
       "      <th>HAShotsTarget</th>\n",
       "      <th>HACorners</th>\n",
       "      <th>AHShots</th>\n",
       "      <th>AHShotsTarget</th>\n",
       "      <th>AHCorners</th>\n",
       "      <th>AAShots</th>\n",
       "      <th>AAShotsTarget</th>\n",
       "      <th>AACorners</th>\n",
       "    </tr>\n",
       "    <tr>\n",
       "      <th>FTR</th>\n",
       "      <th></th>\n",
       "      <th></th>\n",
       "      <th></th>\n",
       "      <th></th>\n",
       "      <th></th>\n",
       "      <th></th>\n",
       "      <th></th>\n",
       "      <th></th>\n",
       "      <th></th>\n",
       "      <th></th>\n",
       "      <th></th>\n",
       "      <th></th>\n",
       "      <th></th>\n",
       "      <th></th>\n",
       "      <th></th>\n",
       "      <th></th>\n",
       "      <th></th>\n",
       "      <th></th>\n",
       "      <th></th>\n",
       "      <th></th>\n",
       "      <th></th>\n",
       "    </tr>\n",
       "  </thead>\n",
       "  <tbody>\n",
       "    <tr>\n",
       "      <th>0</th>\n",
       "      <td>10.927944</td>\n",
       "      <td>8.571178</td>\n",
       "      <td>0.602812</td>\n",
       "      <td>2.233743</td>\n",
       "      <td>12.430580</td>\n",
       "      <td>12.776801</td>\n",
       "      <td>4.797891</td>\n",
       "      <td>6.126538</td>\n",
       "      <td>11.404218</td>\n",
       "      <td>11.611599</td>\n",
       "      <td>...</td>\n",
       "      <td>5.069872</td>\n",
       "      <td>9.603560</td>\n",
       "      <td>4.189039</td>\n",
       "      <td>4.165731</td>\n",
       "      <td>9.853875</td>\n",
       "      <td>4.291985</td>\n",
       "      <td>4.242475</td>\n",
       "      <td>10.770752</td>\n",
       "      <td>4.858503</td>\n",
       "      <td>4.576006</td>\n",
       "    </tr>\n",
       "    <tr>\n",
       "      <th>1</th>\n",
       "      <td>9.856863</td>\n",
       "      <td>9.850980</td>\n",
       "      <td>1.001961</td>\n",
       "      <td>1.001961</td>\n",
       "      <td>13.556863</td>\n",
       "      <td>11.074510</td>\n",
       "      <td>5.845098</td>\n",
       "      <td>4.831373</td>\n",
       "      <td>11.354902</td>\n",
       "      <td>12.000000</td>\n",
       "      <td>...</td>\n",
       "      <td>5.336828</td>\n",
       "      <td>10.425229</td>\n",
       "      <td>4.679287</td>\n",
       "      <td>4.365888</td>\n",
       "      <td>10.555834</td>\n",
       "      <td>4.775979</td>\n",
       "      <td>4.483465</td>\n",
       "      <td>10.096011</td>\n",
       "      <td>4.594728</td>\n",
       "      <td>4.282331</td>\n",
       "    </tr>\n",
       "    <tr>\n",
       "      <th>2</th>\n",
       "      <td>9.030837</td>\n",
       "      <td>10.522026</td>\n",
       "      <td>2.346916</td>\n",
       "      <td>0.484581</td>\n",
       "      <td>14.929515</td>\n",
       "      <td>9.914097</td>\n",
       "      <td>7.429515</td>\n",
       "      <td>4.213656</td>\n",
       "      <td>10.986784</td>\n",
       "      <td>11.856828</td>\n",
       "      <td>...</td>\n",
       "      <td>5.684207</td>\n",
       "      <td>11.149861</td>\n",
       "      <td>5.150235</td>\n",
       "      <td>4.730764</td>\n",
       "      <td>10.955354</td>\n",
       "      <td>5.022493</td>\n",
       "      <td>4.648573</td>\n",
       "      <td>9.707656</td>\n",
       "      <td>4.356117</td>\n",
       "      <td>4.128744</td>\n",
       "    </tr>\n",
       "  </tbody>\n",
       "</table>\n",
       "<p>3 rows × 36 columns</p>\n",
       "</div>"
      ],
      "text/plain": [
       "      HomeTeam   AwayTeam      FTHG      FTAG         HS         AS       HST  \\\n",
       "FTR                                                                             \n",
       "0    10.927944   8.571178  0.602812  2.233743  12.430580  12.776801  4.797891   \n",
       "1     9.856863   9.850980  1.001961  1.001961  13.556863  11.074510  5.845098   \n",
       "2     9.030837  10.522026  2.346916  0.484581  14.929515   9.914097  7.429515   \n",
       "\n",
       "          AST         HF         AF    ...      HHCorners    HAShots  \\\n",
       "FTR                                    ...                             \n",
       "0    6.126538  11.404218  11.611599    ...       5.069872   9.603560   \n",
       "1    4.831373  11.354902  12.000000    ...       5.336828  10.425229   \n",
       "2    4.213656  10.986784  11.856828    ...       5.684207  11.149861   \n",
       "\n",
       "     HAShotsTarget  HACorners    AHShots  AHShotsTarget  AHCorners    AAShots  \\\n",
       "FTR                                                                             \n",
       "0         4.189039   4.165731   9.853875       4.291985   4.242475  10.770752   \n",
       "1         4.679287   4.365888  10.555834       4.775979   4.483465  10.096011   \n",
       "2         5.150235   4.730764  10.955354       5.022493   4.648573   9.707656   \n",
       "\n",
       "     AAShotsTarget  AACorners  \n",
       "FTR                            \n",
       "0         4.858503   4.576006  \n",
       "1         4.594728   4.282331  \n",
       "2         4.356117   4.128744  \n",
       "\n",
       "[3 rows x 36 columns]"
      ]
     },
     "execution_count": 9,
     "metadata": {},
     "output_type": "execute_result"
    }
   ],
   "source": [
    "dataset.groupby('FTR').mean()"
   ]
  },
  {
   "cell_type": "markdown",
   "metadata": {},
   "source": [
    "We can see that for an away win, there are usually more away corners, shots and shots on target. So there is definitely a correlation between the team that wins and these statistics."
   ]
  },
  {
   "cell_type": "code",
   "execution_count": 10,
   "metadata": {
    "collapsed": false
   },
   "outputs": [
    {
     "data": {
      "text/plain": [
       "<matplotlib.text.Text at 0x188a0f57cc0>"
      ]
     },
     "execution_count": 10,
     "metadata": {},
     "output_type": "execute_result"
    },
    {
     "data": {
      "image/png": "[encoded data removed]",
      "text/plain": [
       "<matplotlib.figure.Figure at 0x1889bf75940>"
      ]
     },
     "metadata": {},
     "output_type": "display_data"
    }
   ],
   "source": [
    "# show plots in the notebook\n",
    "%matplotlib inline\n",
    "\n",
    "# histogram of results\n",
    "dataset[\"FTR\"].hist()\n",
    "plt.title('Histogram of Results')\n",
    "plt.xlabel('Result')\n",
    "plt.ylabel('Frequency')"
   ]
  },
  {
   "cell_type": "markdown",
   "metadata": {},
   "source": [
    "As we can see from the histograms, a home win is nearly twice as frequent as an away win in the dataset, and home wins occur nearly as often as away wins and draws put together. This suggests the team playing at home hold some sort of advantage over the away team. So it is necessary to separate the features into home and away."
   ]
  },
  {
   "cell_type": "markdown",
   "metadata": {},
   "source": [
    "METHODOLOGY OVERVIEW\n",
    "\n",
    "In order to gain some insight into how this problem could be approached, I initially had a look around to see how others have attempted this sort of thing in the past. I came accross a paper 'Predicting Soccer Match Results in the English Premier League' by Ben Ulmer and Matthew Fernandez, in which they used the concept of a team's 'form' to predict results. They did this by looking at a team's past 10 matches, and how many times they won in this period. This seems like a plausible method, however I did not want to ignore 15 seasons worth of data and so I decided to use the idea of form on the whole training set. I recognise that form does not crossover from season to season, as major changes take place over the summer for every team, so I decided to split the data by seasons and calculate form within each season. To calculate form, instead of only looking at the past X games, I used data from all the games to calculate cumulative totals for each team based the number of wins that season, shots, shots on target, and corners. I did not feel that fouls, yellow cards and red cards reflected the strength of a team, as some very successful teams have their game based around slowing the match down by fouling the oppostion constantly.\n",
    "\n",
    "I had originally thought of getting all the results for every team since 2003, and also for the lower leagues and making one big file with all these matches, and thengrouping the matches by season and then by team, but I decided to stick with the matches provided in the training set. I divided the number of wins for each team by the number of games played, because some teams had not played anywhere near as many matches as other teams in the dataset, and so this was a way of evening things out.\n",
    "\n",
    "The target variable, FTR, could have been dummy coded into different binary variables, but then predicting this would have involved multi-label classification algorithms which is still a new field of research. I decided to keep it as a categorical variable with three classes, and convert the letters into numericals, as this would make it easier to feed the dataset to algorithms. If there were many more classes, this may have caused bias issues, but three is a small enough number to make this work. i decided to go with Logistic Regression because it is perfectly suited to predicting categoric variables and performed at a higher accuracy than other algorithms I tested such as decision forests. I split the dataset into a 70 percent to 30 percent ratio for training to test sets, because I found this prevents overfitting of the data, which would cause classifier bias.\n",
    "\n",
    "\n",
    "\n"
   ]
  },
  {
   "cell_type": "markdown",
   "metadata": {},
   "source": [
    "Model Training"
   ]
  },
  {
   "cell_type": "code",
   "execution_count": 11,
   "metadata": {
    "collapsed": true
   },
   "outputs": [],
   "source": [
    "# Get all the columns from the dataframe.\n",
    "columns = dataset.columns.tolist()\n",
    "# Filter the columns to remove ones we don't want.\n",
    "columns = [c for c in columns if c not in [\"Season\",\"FTHG\", \"FTAG\", \"FTR\", \"HS\", \"AS\", \"HST\", \"HST\", \"AST\", \"HF\", \"AF\", \"HC\", \"AC\", \"HY\", \"AY\", \"HR\", \"AR\", \"AS\"]]\n",
    "\n",
    "# Store the variable we'll be predicting on.\n",
    "target = \"FTR\""
   ]
  },
  {
   "cell_type": "code",
   "execution_count": 12,
   "metadata": {
    "collapsed": false
   },
   "outputs": [
    {
     "name": "stdout",
     "output_type": "stream",
     "text": [
      "(1391, 38)\n",
      "(596, 38)\n"
     ]
    }
   ],
   "source": [
    "# Generate the training set.  Set random_state to be able to replicate results. 0.7 to not overfit data.\n",
    "train = dataset.sample(frac=0.7, random_state=1)\n",
    "# Select anything not in the training set and put it in the testing set.\n",
    "test = dataset.loc[~dataset.index.isin(train.index)]\n",
    "# Print the shapes of both sets.\n",
    "print(train.shape)\n",
    "print(test.shape)"
   ]
  },
  {
   "cell_type": "code",
   "execution_count": 13,
   "metadata": {
    "collapsed": false
   },
   "outputs": [
    {
     "data": {
      "text/plain": [
       "LogisticRegression(C=1.0, class_weight=None, dual=False, fit_intercept=True,\n",
       "          intercept_scaling=1, max_iter=100, multi_class='ovr', n_jobs=1,\n",
       "          penalty='l2', random_state=None, solver='liblinear', tol=0.0001,\n",
       "          verbose=0, warm_start=False)"
      ]
     },
     "execution_count": 13,
     "metadata": {},
     "output_type": "execute_result"
    }
   ],
   "source": [
    "# Initialize the model class.\n",
    "model = LogisticRegression()\n",
    "# Fit the model to the training data.\n",
    "model.fit(train[columns], train[target])"
   ]
  },
  {
   "cell_type": "code",
   "execution_count": 14,
   "metadata": {
    "collapsed": false
   },
   "outputs": [
    {
     "data": {
      "text/plain": [
       "0.52624011502516177"
      ]
     },
     "execution_count": 14,
     "metadata": {},
     "output_type": "execute_result"
    }
   ],
   "source": [
    "#accuracy\n",
    "model.score(train[columns], train[target])"
   ]
  },
  {
   "cell_type": "markdown",
   "metadata": {},
   "source": [
    "Our accuracy is very high at 53%,almost as good as the bookies."
   ]
  },
  {
   "cell_type": "code",
   "execution_count": 15,
   "metadata": {
    "collapsed": false
   },
   "outputs": [
    {
     "data": {
      "text/plain": [
       "1.2332214765100671"
      ]
     },
     "execution_count": 15,
     "metadata": {},
     "output_type": "execute_result"
    }
   ],
   "source": [
    "# Import the scikit-learn function to compute error.\n",
    "from sklearn.metrics import mean_squared_error\n",
    "# Generate our predictions for the test set.\n",
    "predictions = model.predict(test[columns])\n",
    "\n",
    "# Compute error between our test predictions and the actual values.\n",
    "mean_squared_error(predictions, test[target])"
   ]
  },
  {
   "cell_type": "code",
   "execution_count": 16,
   "metadata": {
    "collapsed": false
   },
   "outputs": [
    {
     "data": {
      "text/plain": [
       "1.1718188353702372"
      ]
     },
     "execution_count": 16,
     "metadata": {},
     "output_type": "execute_result"
    }
   ],
   "source": [
    "#mean\n",
    "train[target].mean()"
   ]
  },
  {
   "cell_type": "code",
   "execution_count": 17,
   "metadata": {
    "collapsed": false
   },
   "outputs": [
    {
     "name": "stdout",
     "output_type": "stream",
     "text": [
      "[0 2 0 0 2 2 2 2 2 2 0 0 2 2 0 2 2 2 2 2 2 2 1 0 2 0 2 2 2 0 2 0 2 2 2 2 2\n",
      " 2 2 0 2 2 2 2 2 2 2 2 2 2 0 2 0 2 0 0 2 2 0 2 2 2 2 2 0 0 2 0 0 0 0 2 2 0\n",
      " 0 2 2 2 2 2 0 0 2 2 2 0 2 2 0 2 2 2 2 0 0 0 2 2 2 2 2 2 0 0 0 2 2 0 0 0 2\n",
      " 2 2 2 2 2 2 2 2 2 2 2 0 2 0 2 0 2 0 2 0 0 2 0 0 2 2 2 2 2 2 0 2 2 2 2 2 0\n",
      " 2 0 2 2 2 0 2 2 2 2 0 2 2 1 2 2 2 2 2 2 2 2 2 2 2 2 2 2 2 2 2 0 2 2 2 2 0\n",
      " 2 0 0 2 0 2 2 2 2 2 0 2 2 0 0 2 2 2 2 2 2 0 2 0 2 2 0 0 0 2 2 2 2 2 0 2 2\n",
      " 2 0 2 2 0 0 0 2 2 2 2 2 2 0 2 0 2 0 2 2 2 0 2 2 2 2 2 2 0 2 2 2 2 2 2 2 2\n",
      " 2 0 2 0 1 2 0 2 2 2 2 2 2 2 2 0 2 2 2 0 2 2 2 2 2 2 2 2 2 0 2 2 2 2 0 2 2\n",
      " 2 2 2 2 2 2 2 2 2 2 2 2 2 2 2 0 2 0 2 2 2 2 2 2 0 2 2 2 2 0 2 0 2 2 0 2 2\n",
      " 2 0 2 0 1 2 2 2 2 2 0 2 0 2 2 0 2 2 2 0 0 2 2 0 2 2 2 2 0 2 0 2 2 2 2 0 2\n",
      " 2 2 0 2 0 2 2 0 0 0 2 2 0 2 0 2 2 0 0 2 2 2 0 0 2 0 0 2 2 2 2 2 2 0 0 0 2\n",
      " 0 0 2 2 2 2 0 0 2 2 2 0 0 2 2 2 0 0 0 2 2 2 2 2 2 0 2 0 2 0 0 0 0 2 2 0 2\n",
      " 2 2 2 0 0 2 2 2 2 2 0 2 2 0 2 0 0 2 2 2 2 2 2 0 0 0 0 2 2 2 0 2 2 1 2 2 0\n",
      " 2 0 0 2 2 0 2 0 2 0 0 2 2 2 2 2 2 2 0 2 0 2 2 2 2 2 0 2 2 2 0 0 0 2 2 0 0\n",
      " 0 0 2 2 2 2 2 0 2 2 0 2 2 2 0 0 0 2 0 2 2 2 2 2 0 2 0 0 2 2 0 0 2 2 2 2 0\n",
      " 2 0 2 2 0 2 0 0 2 0 2 2 0 2 2 2 0 2 2 2 1 2 1 0 2 2 2 2 2 2 0 2 2 2 0 2 2\n",
      " 2 2 2 2]\n"
     ]
    }
   ],
   "source": [
    "print(predictions)"
   ]
  },
  {
   "cell_type": "code",
   "execution_count": 18,
   "metadata": {
    "collapsed": false
   },
   "outputs": [
    {
     "name": "stdout",
     "output_type": "stream",
     "text": [
      "[[ 0.52778272  0.2370725   0.23514478]\n",
      " [ 0.15807644  0.25797846  0.5839451 ]\n",
      " [ 0.44831844  0.30265654  0.24902501]\n",
      " ..., \n",
      " [ 0.08391621  0.18279973  0.73328406]\n",
      " [ 0.36456622  0.23456401  0.40086976]\n",
      " [ 0.21032778  0.26331502  0.5263572 ]]\n"
     ]
    }
   ],
   "source": [
    "# generate class probabilities\n",
    "probs = model.predict_proba(test[columns])\n",
    "print (probs)"
   ]
  },
  {
   "cell_type": "markdown",
   "metadata": {},
   "source": [
    "As you can see, the classifier is predicting a 0 (away win) any time the probability is greater than 0.5."
   ]
  },
  {
   "cell_type": "code",
   "execution_count": 19,
   "metadata": {
    "collapsed": false
   },
   "outputs": [
    {
     "name": "stdout",
     "output_type": "stream",
     "text": [
      "[ 0.51428571  0.54285714  0.55        0.46428571  0.43884892  0.53956835\n",
      "  0.53956835  0.51798561  0.50724638  0.45255474]\n",
      "0.506720091579\n"
     ]
    }
   ],
   "source": [
    "# evaluate the model using 10-fold cross-validation\n",
    "scores = cross_val_score(LogisticRegression(), train[columns], train[target], scoring='accuracy', cv=10)\n",
    "print (scores)\n",
    "print (scores.mean())"
   ]
  },
  {
   "cell_type": "markdown",
   "metadata": {},
   "source": [
    "Using 10-fold cross-validation, the accuracy of 53% still holds, which is a good sign.\n"
   ]
  },
  {
   "cell_type": "markdown",
   "metadata": {},
   "source": [
    "Results and Prediction for weekend fixtures"
   ]
  },
  {
   "cell_type": "code",
   "execution_count": 26,
   "metadata": {
    "collapsed": true
   },
   "outputs": [],
   "source": [
    "# Load test dataset\n",
    "testset = pandas.read_csv('TestEPLData.csv')"
   ]
  },
  {
   "cell_type": "code",
   "execution_count": 27,
   "metadata": {
    "collapsed": false
   },
   "outputs": [
    {
     "data": {
      "text/plain": [
       "LabelEncoder()"
      ]
     },
     "execution_count": 27,
     "metadata": {},
     "output_type": "execute_result"
    }
   ],
   "source": [
    "#Do all the same transformation\n",
    "del testset['ID']\n",
    "del testset['Date']\n",
    "del testset['Referee']\n",
    "del testset['HTHG']\n",
    "del testset['HTAG']\n",
    "del testset['HTR-A']\n",
    "del testset['HTR-D']\n",
    "del testset['HTR-H']\n",
    "del testset['FTHG']\n",
    "del testset['FTAG']\n",
    "del testset['HS']\n",
    "del testset['AS']\n",
    "del testset['HST']\n",
    "del testset['AST']\n",
    "del testset['HF']\n",
    "del testset['AF']\n",
    "del testset['HC']\n",
    "del testset['AC']\n",
    "del testset['HY']\n",
    "del testset['AY']\n",
    "del testset['HR']\n",
    "del testset['AR']\n",
    "\n",
    "from sklearn.preprocessing import LabelEncoder\n",
    "testset['HHWins'] = np.where(testset['HHGames'] < 1, testset['HHWins'], testset['HHWins']/testset['HHGames'])\n",
    "testset['AHWins'] = np.where(testset['AHGames'] < 1, testset['AHWins'], testset['AHWins']/testset['AHGames'])\n",
    "testset['HAWins'] = np.where(testset['HAGames'] < 1, testset['HAWins'], testset['HAWins']/testset['HAGames'])\n",
    "testset['AAWins'] = np.where(testset['AAGames'] < 1, testset['AAWins'], testset['AAWins']/testset['AAGames'])\n",
    "lbl_enc = LabelEncoder()\n",
    "lbl_enc.fit(testset.FTR)\n",
    "testset.FTR = lbl_enc.transform(testset.FTR)\n",
    "lbl_enc.fit(testset.HomeTeam)"
   ]
  },
  {
   "cell_type": "code",
   "execution_count": 28,
   "metadata": {
    "collapsed": false
   },
   "outputs": [
    {
     "data": {
      "text/html": [
       "<div>\n",
       "<table border=\"1\" class=\"dataframe\">\n",
       "  <thead>\n",
       "    <tr style=\"text-align: right;\">\n",
       "      <th></th>\n",
       "      <th>HomeTeam</th>\n",
       "      <th>AwayTeam</th>\n",
       "      <th>FTR</th>\n",
       "      <th>Season</th>\n",
       "      <th>HHGames</th>\n",
       "      <th>HAGames</th>\n",
       "      <th>AAGames</th>\n",
       "      <th>AHGames</th>\n",
       "      <th>HHWins</th>\n",
       "      <th>AHWins</th>\n",
       "      <th>...</th>\n",
       "      <th>HHCorners</th>\n",
       "      <th>HAShots</th>\n",
       "      <th>HAShotsTarget</th>\n",
       "      <th>HACorners</th>\n",
       "      <th>AHShots</th>\n",
       "      <th>AHShotsTarget</th>\n",
       "      <th>AHCorners</th>\n",
       "      <th>AAShots</th>\n",
       "      <th>AAShotsTarget</th>\n",
       "      <th>AACorners</th>\n",
       "    </tr>\n",
       "  </thead>\n",
       "  <tbody>\n",
       "    <tr>\n",
       "      <th>0</th>\n",
       "      <td>8</td>\n",
       "      <td>15</td>\n",
       "      <td>0</td>\n",
       "      <td>2016-2017</td>\n",
       "      <td>2</td>\n",
       "      <td>5</td>\n",
       "      <td>4</td>\n",
       "      <td>4</td>\n",
       "      <td>1.00</td>\n",
       "      <td>0.50</td>\n",
       "      <td>...</td>\n",
       "      <td>10.126185</td>\n",
       "      <td>17.283367</td>\n",
       "      <td>5.469031</td>\n",
       "      <td>8.212262</td>\n",
       "      <td>9.115458</td>\n",
       "      <td>3.210376</td>\n",
       "      <td>3.081837</td>\n",
       "      <td>12.192212</td>\n",
       "      <td>5.394159</td>\n",
       "      <td>4.929675</td>\n",
       "    </tr>\n",
       "    <tr>\n",
       "      <th>1</th>\n",
       "      <td>1</td>\n",
       "      <td>17</td>\n",
       "      <td>0</td>\n",
       "      <td>2016-2017</td>\n",
       "      <td>4</td>\n",
       "      <td>4</td>\n",
       "      <td>4</td>\n",
       "      <td>4</td>\n",
       "      <td>0.75</td>\n",
       "      <td>0.50</td>\n",
       "      <td>...</td>\n",
       "      <td>5.566333</td>\n",
       "      <td>9.691024</td>\n",
       "      <td>2.447625</td>\n",
       "      <td>4.970323</td>\n",
       "      <td>14.242259</td>\n",
       "      <td>5.998860</td>\n",
       "      <td>3.610158</td>\n",
       "      <td>6.690125</td>\n",
       "      <td>2.872768</td>\n",
       "      <td>5.313723</td>\n",
       "    </tr>\n",
       "    <tr>\n",
       "      <th>2</th>\n",
       "      <td>4</td>\n",
       "      <td>5</td>\n",
       "      <td>0</td>\n",
       "      <td>2016-2017</td>\n",
       "      <td>4</td>\n",
       "      <td>4</td>\n",
       "      <td>4</td>\n",
       "      <td>4</td>\n",
       "      <td>0.25</td>\n",
       "      <td>0.25</td>\n",
       "      <td>...</td>\n",
       "      <td>7.501354</td>\n",
       "      <td>11.991029</td>\n",
       "      <td>2.612860</td>\n",
       "      <td>7.385992</td>\n",
       "      <td>13.624285</td>\n",
       "      <td>4.635256</td>\n",
       "      <td>8.654320</td>\n",
       "      <td>8.048362</td>\n",
       "      <td>3.461584</td>\n",
       "      <td>2.060494</td>\n",
       "    </tr>\n",
       "    <tr>\n",
       "      <th>3</th>\n",
       "      <td>11</td>\n",
       "      <td>19</td>\n",
       "      <td>0</td>\n",
       "      <td>2016-2017</td>\n",
       "      <td>4</td>\n",
       "      <td>4</td>\n",
       "      <td>4</td>\n",
       "      <td>4</td>\n",
       "      <td>0.00</td>\n",
       "      <td>0.00</td>\n",
       "      <td>...</td>\n",
       "      <td>4.446224</td>\n",
       "      <td>8.282644</td>\n",
       "      <td>2.349026</td>\n",
       "      <td>4.103347</td>\n",
       "      <td>17.548431</td>\n",
       "      <td>2.096058</td>\n",
       "      <td>4.031079</td>\n",
       "      <td>12.970043</td>\n",
       "      <td>3.799455</td>\n",
       "      <td>5.209236</td>\n",
       "    </tr>\n",
       "    <tr>\n",
       "      <th>4</th>\n",
       "      <td>13</td>\n",
       "      <td>10</td>\n",
       "      <td>0</td>\n",
       "      <td>2016-2017</td>\n",
       "      <td>4</td>\n",
       "      <td>4</td>\n",
       "      <td>3</td>\n",
       "      <td>4</td>\n",
       "      <td>0.25</td>\n",
       "      <td>0.00</td>\n",
       "      <td>...</td>\n",
       "      <td>6.641144</td>\n",
       "      <td>8.345680</td>\n",
       "      <td>4.462204</td>\n",
       "      <td>2.934759</td>\n",
       "      <td>20.026353</td>\n",
       "      <td>7.432527</td>\n",
       "      <td>9.990788</td>\n",
       "      <td>17.261448</td>\n",
       "      <td>4.149488</td>\n",
       "      <td>6.069197</td>\n",
       "    </tr>\n",
       "    <tr>\n",
       "      <th>5</th>\n",
       "      <td>18</td>\n",
       "      <td>14</td>\n",
       "      <td>0</td>\n",
       "      <td>2016-2017</td>\n",
       "      <td>4</td>\n",
       "      <td>4</td>\n",
       "      <td>4</td>\n",
       "      <td>4</td>\n",
       "      <td>0.25</td>\n",
       "      <td>0.25</td>\n",
       "      <td>...</td>\n",
       "      <td>4.692164</td>\n",
       "      <td>14.533070</td>\n",
       "      <td>5.222151</td>\n",
       "      <td>5.276757</td>\n",
       "      <td>9.375095</td>\n",
       "      <td>2.658002</td>\n",
       "      <td>5.558000</td>\n",
       "      <td>8.915716</td>\n",
       "      <td>1.515408</td>\n",
       "      <td>3.826328</td>\n",
       "    </tr>\n",
       "    <tr>\n",
       "      <th>6</th>\n",
       "      <td>9</td>\n",
       "      <td>16</td>\n",
       "      <td>0</td>\n",
       "      <td>2016-2017</td>\n",
       "      <td>4</td>\n",
       "      <td>4</td>\n",
       "      <td>4</td>\n",
       "      <td>4</td>\n",
       "      <td>0.75</td>\n",
       "      <td>1.00</td>\n",
       "      <td>...</td>\n",
       "      <td>10.120587</td>\n",
       "      <td>13.838605</td>\n",
       "      <td>5.655460</td>\n",
       "      <td>4.241193</td>\n",
       "      <td>16.563944</td>\n",
       "      <td>6.733074</td>\n",
       "      <td>6.483788</td>\n",
       "      <td>19.096320</td>\n",
       "      <td>7.065241</td>\n",
       "      <td>8.135566</td>\n",
       "    </tr>\n",
       "    <tr>\n",
       "      <th>7</th>\n",
       "      <td>0</td>\n",
       "      <td>2</td>\n",
       "      <td>0</td>\n",
       "      <td>2016-2017</td>\n",
       "      <td>4</td>\n",
       "      <td>4</td>\n",
       "      <td>3</td>\n",
       "      <td>5</td>\n",
       "      <td>0.75</td>\n",
       "      <td>0.40</td>\n",
       "      <td>...</td>\n",
       "      <td>5.823245</td>\n",
       "      <td>17.437872</td>\n",
       "      <td>4.674764</td>\n",
       "      <td>5.223290</td>\n",
       "      <td>10.113379</td>\n",
       "      <td>1.829122</td>\n",
       "      <td>3.414344</td>\n",
       "      <td>6.203114</td>\n",
       "      <td>1.057577</td>\n",
       "      <td>3.536195</td>\n",
       "    </tr>\n",
       "    <tr>\n",
       "      <th>8</th>\n",
       "      <td>3</td>\n",
       "      <td>6</td>\n",
       "      <td>0</td>\n",
       "      <td>2016-2017</td>\n",
       "      <td>4</td>\n",
       "      <td>4</td>\n",
       "      <td>4</td>\n",
       "      <td>4</td>\n",
       "      <td>0.75</td>\n",
       "      <td>0.50</td>\n",
       "      <td>...</td>\n",
       "      <td>7.685137</td>\n",
       "      <td>19.625089</td>\n",
       "      <td>7.003345</td>\n",
       "      <td>6.294061</td>\n",
       "      <td>8.282382</td>\n",
       "      <td>2.902540</td>\n",
       "      <td>3.946533</td>\n",
       "      <td>9.554056</td>\n",
       "      <td>3.349026</td>\n",
       "      <td>4.221793</td>\n",
       "    </tr>\n",
       "    <tr>\n",
       "      <th>9</th>\n",
       "      <td>12</td>\n",
       "      <td>7</td>\n",
       "      <td>0</td>\n",
       "      <td>2016-2017</td>\n",
       "      <td>4</td>\n",
       "      <td>4</td>\n",
       "      <td>4</td>\n",
       "      <td>4</td>\n",
       "      <td>0.50</td>\n",
       "      <td>0.25</td>\n",
       "      <td>...</td>\n",
       "      <td>7.216262</td>\n",
       "      <td>12.414855</td>\n",
       "      <td>5.271132</td>\n",
       "      <td>4.012176</td>\n",
       "      <td>10.293520</td>\n",
       "      <td>2.532171</td>\n",
       "      <td>3.718757</td>\n",
       "      <td>8.158832</td>\n",
       "      <td>1.441738</td>\n",
       "      <td>5.231624</td>\n",
       "    </tr>\n",
       "  </tbody>\n",
       "</table>\n",
       "<p>10 rows × 24 columns</p>\n",
       "</div>"
      ],
      "text/plain": [
       "   HomeTeam  AwayTeam  FTR     Season  HHGames  HAGames  AAGames  AHGames  \\\n",
       "0         8        15    0  2016-2017        2        5        4        4   \n",
       "1         1        17    0  2016-2017        4        4        4        4   \n",
       "2         4         5    0  2016-2017        4        4        4        4   \n",
       "3        11        19    0  2016-2017        4        4        4        4   \n",
       "4        13        10    0  2016-2017        4        4        3        4   \n",
       "5        18        14    0  2016-2017        4        4        4        4   \n",
       "6         9        16    0  2016-2017        4        4        4        4   \n",
       "7         0         2    0  2016-2017        4        4        3        5   \n",
       "8         3         6    0  2016-2017        4        4        4        4   \n",
       "9        12         7    0  2016-2017        4        4        4        4   \n",
       "\n",
       "   HHWins  AHWins    ...      HHCorners    HAShots  HAShotsTarget  HACorners  \\\n",
       "0    1.00    0.50    ...      10.126185  17.283367       5.469031   8.212262   \n",
       "1    0.75    0.50    ...       5.566333   9.691024       2.447625   4.970323   \n",
       "2    0.25    0.25    ...       7.501354  11.991029       2.612860   7.385992   \n",
       "3    0.00    0.00    ...       4.446224   8.282644       2.349026   4.103347   \n",
       "4    0.25    0.00    ...       6.641144   8.345680       4.462204   2.934759   \n",
       "5    0.25    0.25    ...       4.692164  14.533070       5.222151   5.276757   \n",
       "6    0.75    1.00    ...      10.120587  13.838605       5.655460   4.241193   \n",
       "7    0.75    0.40    ...       5.823245  17.437872       4.674764   5.223290   \n",
       "8    0.75    0.50    ...       7.685137  19.625089       7.003345   6.294061   \n",
       "9    0.50    0.25    ...       7.216262  12.414855       5.271132   4.012176   \n",
       "\n",
       "     AHShots  AHShotsTarget  AHCorners    AAShots  AAShotsTarget  AACorners  \n",
       "0   9.115458       3.210376   3.081837  12.192212       5.394159   4.929675  \n",
       "1  14.242259       5.998860   3.610158   6.690125       2.872768   5.313723  \n",
       "2  13.624285       4.635256   8.654320   8.048362       3.461584   2.060494  \n",
       "3  17.548431       2.096058   4.031079  12.970043       3.799455   5.209236  \n",
       "4  20.026353       7.432527   9.990788  17.261448       4.149488   6.069197  \n",
       "5   9.375095       2.658002   5.558000   8.915716       1.515408   3.826328  \n",
       "6  16.563944       6.733074   6.483788  19.096320       7.065241   8.135566  \n",
       "7  10.113379       1.829122   3.414344   6.203114       1.057577   3.536195  \n",
       "8   8.282382       2.902540   3.946533   9.554056       3.349026   4.221793  \n",
       "9  10.293520       2.532171   3.718757   8.158832       1.441738   5.231624  \n",
       "\n",
       "[10 rows x 24 columns]"
      ]
     },
     "execution_count": 28,
     "metadata": {},
     "output_type": "execute_result"
    }
   ],
   "source": [
    "testset"
   ]
  },
  {
   "cell_type": "code",
   "execution_count": 29,
   "metadata": {
    "collapsed": false
   },
   "outputs": [
    {
     "data": {
      "text/plain": [
       "Index(['HomeTeam', 'AwayTeam', 'FTR', 'Season', 'HHGames', 'HAGames',\n",
       "       'AAGames', 'AHGames', 'HHWins', 'AHWins', 'AAWins', 'HAWins', 'HHShots',\n",
       "       'HHShotsTarget', 'HHCorners', 'HAShots', 'HAShotsTarget', 'HACorners',\n",
       "       'AHShots', 'AHShotsTarget', 'AHCorners', 'AAShots', 'AAShotsTarget',\n",
       "       'AACorners'],\n",
       "      dtype='object')"
      ]
     },
     "execution_count": 29,
     "metadata": {},
     "output_type": "execute_result"
    }
   ],
   "source": [
    "testset.columns"
   ]
  },
  {
   "cell_type": "code",
   "execution_count": 30,
   "metadata": {
    "collapsed": true
   },
   "outputs": [],
   "source": [
    "# Get all the columns from the dataframe.\n",
    "columns2 = testset.columns.tolist()\n",
    "# Filter the columns to remove ones we don't want.\n",
    "columns2 = [c for c in columns if c not in [\"Season\"]]\n",
    "\n",
    "# Store the variable we'll be predicting on.\n",
    "target2 = \"FTR\""
   ]
  },
  {
   "cell_type": "code",
   "execution_count": 31,
   "metadata": {
    "collapsed": true
   },
   "outputs": [],
   "source": [
    "# Generate our predictions for the test set.\n",
    "predictions2 = model.predict(testset[columns2])"
   ]
  },
  {
   "cell_type": "code",
   "execution_count": 32,
   "metadata": {
    "collapsed": false
   },
   "outputs": [
    {
     "data": {
      "text/plain": [
       "array([2, 2, 2, 0, 0, 2, 2, 2, 2, 2], dtype=int64)"
      ]
     },
     "execution_count": 32,
     "metadata": {},
     "output_type": "execute_result"
    }
   ],
   "source": [
    "predictions2"
   ]
  },
  {
   "cell_type": "markdown",
   "metadata": {},
   "source": [
    "0 = A, 2 = H\n",
    "So the predictions are [H, H, H, A, A, H, H, H, H, H]\n",
    "\n",
    "    Date\tHomeTeam\t    AwayTeam     Result\n",
    "21/01/2017\tLiverpool\t    Swansea      H\n",
    "21/01/2017\tBournemouth\t    Watford      H\n",
    "21/01/2017\tCrystal Palace\tEverton      H\n",
    "21/01/2017\tMiddlesbrough\tWest Ham     A\n",
    "21/01/2017\tStoke\t        Man United   A\n",
    "21/01/2017\tWest Brom\t    Sunderland   H\n",
    "21/01/2017\tMan City\t    Tottenham    H\n",
    "22/01/2017\tArsenal\t        Burnley      H\n",
    "22/01/2017\tChelsea\t        Hull         H\n",
    "22/01/2017\tSouthampton\t    Leicester    H\n",
    "\n"
   ]
  },
  {
   "cell_type": "code",
   "execution_count": null,
   "metadata": {
    "collapsed": true
   },
   "outputs": [],
   "source": []
  }
 ],
 "metadata": {
  "kernelspec": {
   "display_name": "Python [default]",
   "language": "python",
   "name": "python3"
  },
  "language_info": {
   "codemirror_mode": {
    "name": "ipython",
    "version": 3
   },
   "file_extension": ".py",
   "mimetype": "text/x-python",
   "name": "python",
   "nbconvert_exporter": "python",
   "pygments_lexer": "ipython3",
   "version": "3.5.2"
  }
 },
 "nbformat": 4,
 "nbformat_minor": 1
}
